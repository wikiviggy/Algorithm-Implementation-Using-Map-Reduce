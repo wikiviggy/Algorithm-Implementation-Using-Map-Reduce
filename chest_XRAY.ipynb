{
  "nbformat": 4,
  "nbformat_minor": 0,
  "metadata": {
    "colab": {
      "name": " chest_XRAY.ipynb",
      "version": "0.3.2",
      "provenance": [],
      "include_colab_link": true
    },
    "kernelspec": {
      "display_name": "Python 3",
      "language": "python",
      "name": "python3"
    },
    "accelerator": "GPU"
  },
  "cells": [
    {
      "cell_type": "markdown",
      "metadata": {
        "id": "view-in-github",
        "colab_type": "text"
      },
      "source": [
        "<a href=\"https://colab.research.google.com/github/wikiviggy/Algorithm-Implementation-Using-Map-Reduce/blob/master/chest_XRAY.ipynb\" target=\"_parent\"><img src=\"https://colab.research.google.com/assets/colab-badge.svg\" alt=\"Open In Colab\"/></a>"
      ]
    },
    {
      "metadata": {
        "colab_type": "code",
        "id": "OYL8Z8Og_yOQ",
        "outputId": "812d7c0a-16ad-4fbe-9ce4-4662db718746",
        "colab": {
          "base_uri": "https://localhost:8080/",
          "height": 121
        }
      },
      "cell_type": "code",
      "source": [
        "! git clone https://github.com/wikiviggy/Visiondataset.git"
      ],
      "execution_count": 0,
      "outputs": [
        {
          "output_type": "stream",
          "text": [
            "Cloning into 'Visiondataset'...\n",
            "remote: Enumerating objects: 368, done.\u001b[K\n",
            "remote: Counting objects: 100% (368/368), done.\u001b[K\n",
            "remote: Compressing objects: 100% (368/368), done.\u001b[K\n",
            "remote: Total 368 (delta 0), reused 368 (delta 0), pack-reused 0\u001b[K\n",
            "Receiving objects: 100% (368/368), 61.87 MiB | 41.60 MiB/s, done.\n"
          ],
          "name": "stdout"
        }
      ]
    },
    {
      "metadata": {
        "colab_type": "code",
        "id": "X1U7z39p_9k1",
        "outputId": "47a59501-5366-409f-db40-9c919928cb4a",
        "colab": {
          "base_uri": "https://localhost:8080/",
          "height": 69
        }
      },
      "cell_type": "code",
      "source": [
        "# http://pytorch.org/\n",
        "from os.path import exists\n",
        "from wheel.pep425tags import get_abbr_impl, get_impl_ver, get_abi_tag\n",
        "platform = '{}{}-{}'.format(get_abbr_impl(), get_impl_ver(), get_abi_tag())\n",
        "cuda_output = !ldconfig -p|grep cudart.so|sed -e 's/.*\\.\\([0-9]*\\)\\.\\([0-9]*\\)$/cu\\1\\2/'\n",
        "accelerator = cuda_output[0] if exists('/dev/nvidia0') else 'cpu'\n",
        "\n",
        "!pip install -q http://download.pytorch.org/whl/{accelerator}/torch-0.4.1-{platform}-linux_x86_64.whl torchvision\n",
        "import torch"
      ],
      "execution_count": 0,
      "outputs": [
        {
          "output_type": "stream",
          "text": [
            "\u001b[K    100% |████████████████████████████████| 512.6MB 33.3MB/s \n",
            "\u001b[K    100% |████████████████████████████████| 2.0MB 12.6MB/s \n",
            "\u001b[31mfastai 1.0.42 has requirement torch>=1.0.0, but you'll have torch 0.4.1 which is incompatible.\u001b[0m\n",
            "\u001b[?25h"
          ],
          "name": "stdout"
        }
      ]
    },
    {
      "metadata": {
        "colab_type": "code",
        "id": "_GMRseDHAC-0",
        "colab": {}
      },
      "cell_type": "code",
      "source": [
        "import torchvision \n",
        "import torch.nn as nn\n",
        "import torch.optim as optim \n",
        "from torchvision import datasets , models , transforms \n",
        "from torch.optim import lr_scheduler \n",
        "import numpy as np \n",
        "import matplotlib.pyplot as plt \n",
        "import time \n",
        "import os \n",
        "import copy \n"
      ],
      "execution_count": 0,
      "outputs": []
    },
    {
      "metadata": {
        "colab_type": "code",
        "id": "9bf1fLoaAIsf",
        "colab": {}
      },
      "cell_type": "code",
      "source": [
        "# As VGG16 requires the data in certain form so ,we are transforming the data as per required(normalization)\n",
        "train_datatransform = transforms.Compose([transforms.RandomResizedCrop(224),\n",
        "                                         transforms.RandomHorizontalFlip(),\n",
        "                                         transforms.ToTensor(),\n",
        "                                         transforms.Normalize([0.485 , 0.456 ,0.406] ,[0.229 , 0.224 , 0.225])])\n",
        "test_datatrannsform = transforms.Compose([transforms.RandomResizedCrop(224), \n",
        "                                         transforms.RandomHorizontalFlip(),\n",
        "                                         transforms.ToTensor(), \n",
        "                                         transforms.Normalize([0.485 ,0.456 ,0.406] ,[0.229 , 0.224 ,0.225])])"
      ],
      "execution_count": 0,
      "outputs": []
    },
    {
      "metadata": {
        "colab_type": "code",
        "id": "KHI1M4G6ANEQ",
        "colab": {}
      },
      "cell_type": "code",
      "source": [
        "#Yeah , we need to export the data that we have created \n",
        "train_image_dataset = datasets.ImageFolder(root='./Visiondataset/train',transform=train_datatransform )\n",
        "test_image_dataset = datasets.ImageFolder(root ='./Visiondataset/test', transform=test_datatrannsform)"
      ],
      "execution_count": 0,
      "outputs": []
    },
    {
      "metadata": {
        "colab_type": "code",
        "id": "xTOs6REJAQFG",
        "colab": {}
      },
      "cell_type": "code",
      "source": [
        "#DataLoader - Load the train and test data in the form of batches\n",
        "\n",
        "train_dataloader = torch.utils.data.DataLoader(train_image_dataset , batch_size =4 ,shuffle=True , num_workers=4 )\n",
        "test_dataloader = torch.utils.data.DataLoader(test_image_dataset , batch_size = 4 , shuffle= True , num_workers=4)"
      ],
      "execution_count": 0,
      "outputs": []
    },
    {
      "metadata": {
        "colab_type": "code",
        "id": "4Ha8vQQdAXrE",
        "outputId": "350eec3b-65ae-4fb5-9b45-600e8738727d",
        "colab": {
          "base_uri": "https://localhost:8080/",
          "height": 52
        }
      },
      "cell_type": "code",
      "source": [
        "class_names = train_image_dataset.classes\n",
        "print(class_names)\n",
        "device = torch.device(\"cuda:0\" if torch.cuda.is_available() else \"cpu\")\n",
        "print(device)"
      ],
      "execution_count": 0,
      "outputs": [
        {
          "output_type": "stream",
          "text": [
            "['cardiomegaly', 'normal', 'opacity']\n",
            "cuda:0\n"
          ],
          "name": "stdout"
        }
      ]
    },
    {
      "metadata": {
        "colab_type": "code",
        "id": "RpQd86qHAqxU",
        "outputId": "3c9c10f1-976c-49e2-a207-a5bb43c2720e",
        "colab": {
          "base_uri": "https://localhost:8080/",
          "height": 450
        }
      },
      "cell_type": "code",
      "source": [
        "!pip install Pillow==4.0.0\n",
        "!pip install PIL\n",
        "!pip install image\n",
        "import PIL"
      ],
      "execution_count": 0,
      "outputs": [
        {
          "output_type": "stream",
          "text": [
            "Collecting Pillow==4.0.0\n",
            "\u001b[?25l  Downloading https://files.pythonhosted.org/packages/37/e8/b3fbf87b0188d22246678f8cd61e23e31caa1769ebc06f1664e2e5fe8a17/Pillow-4.0.0-cp36-cp36m-manylinux1_x86_64.whl (5.6MB)\n",
            "\u001b[K    100% |████████████████████████████████| 5.6MB 8.5MB/s \n",
            "\u001b[?25hRequirement already satisfied: olefile in /usr/local/lib/python3.6/dist-packages (from Pillow==4.0.0) (0.46)\n",
            "\u001b[31mtorchvision 0.2.1 has requirement pillow>=4.1.1, but you'll have pillow 4.0.0 which is incompatible.\u001b[0m\n",
            "\u001b[31mfastai 1.0.42 has requirement torch>=1.0.0, but you'll have torch 0.4.1 which is incompatible.\u001b[0m\n",
            "Installing collected packages: Pillow\n",
            "  Found existing installation: Pillow 5.4.1\n",
            "    Uninstalling Pillow-5.4.1:\n",
            "      Successfully uninstalled Pillow-5.4.1\n",
            "Successfully installed Pillow-4.0.0\n"
          ],
          "name": "stdout"
        },
        {
          "output_type": "display_data",
          "data": {
            "application/vnd.colab-display-data+json": {
              "pip_warning": {
                "packages": [
                  "PIL"
                ]
              }
            }
          },
          "metadata": {
            "tags": []
          }
        },
        {
          "output_type": "stream",
          "text": [
            "Collecting PIL\n",
            "\u001b[31m  Could not find a version that satisfies the requirement PIL (from versions: )\u001b[0m\n",
            "\u001b[31mNo matching distribution found for PIL\u001b[0m\n",
            "Requirement already satisfied: image in /usr/local/lib/python3.6/dist-packages (1.5.27)\n",
            "Requirement already satisfied: pillow in /usr/local/lib/python3.6/dist-packages (from image) (4.0.0)\n",
            "Requirement already satisfied: django in /usr/local/lib/python3.6/dist-packages (from image) (2.1.5)\n",
            "Requirement already satisfied: olefile in /usr/local/lib/python3.6/dist-packages (from pillow->image) (0.46)\n",
            "Requirement already satisfied: pytz in /usr/local/lib/python3.6/dist-packages (from django->image) (2018.9)\n"
          ],
          "name": "stdout"
        }
      ]
    },
    {
      "metadata": {
        "colab_type": "code",
        "id": "dbwKzgrKBHtM",
        "outputId": "53c5cb3b-1cc1-4c4f-831b-e9aee082dd47",
        "colab": {
          "base_uri": "https://localhost:8080/",
          "height": 175
        }
      },
      "cell_type": "code",
      "source": [
        "def imshow(inp, title=None):\n",
        "    \"\"\"Imshow for Tensor.\"\"\"\n",
        "    inp = inp.numpy().transpose((1, 2, 0))\n",
        "    mean = np.array([0.485, 0.456, 0.406])\n",
        "    std = np.array([0.229, 0.224, 0.225])\n",
        "    inp = std * inp + mean\n",
        "    inp = np.clip(inp, 0, 1)\n",
        "    plt.imshow(inp)\n",
        "    if title is not None:\n",
        "        plt.title(title)\n",
        "    plt.pause(0.001)  # pause a bit so that plots are updated\n",
        "\n",
        "\n",
        "# Get a batch of training data\n",
        "inputs, classes = next(iter(train_dataloader))\n",
        "\n",
        "# Make a grid from batch\n",
        "out = torchvision.utils.make_grid(inputs)\n",
        "\n",
        "imshow(out, title=[class_names[x] for x in classes])\n"
      ],
      "execution_count": 0,
      "outputs": [
        {
          "output_type": "display_data",
          "data": {
            "image/png": "[encoded data removed]",
            "text/plain": [
              "<Figure size 576x396 with 1 Axes>"
            ]
          },
          "metadata": {
            "tags": []
          }
        }
      ]
    },
    {
      "metadata": {
        "colab_type": "code",
        "id": "5--HwZ-5Bh9V",
        "colab": {}
      },
      "cell_type": "code",
      "source": [
        "def train_model(model , criterion , optimizer , scheduler ,num_epochs):\n",
        "  since =time.time()\n",
        "  best_acc =0.0\n",
        "  best_model_wts = copy.deepcopy(model.state_dict())\n",
        "  \n",
        "  for epoch in range(num_epochs):\n",
        "    print('Epoch {}/{}'.format(epoch , num_epochs -1))\n",
        "    print('-'*10)\n",
        "    \n",
        "    scheduler.step()\n",
        "    model.train()\n",
        "    \n",
        "    running_loss = 0.0 \n",
        "    running_corrects = 0\n",
        "    \n",
        "    for inputs , labels in train_dataloader:\n",
        "      inputs = inputs.to(device)\n",
        "      labels = labels.to(device)\n",
        "      \n",
        "      optimizer.zero_grad()\n",
        "      \n",
        "      outputs = model(inputs)\n",
        "      _, preds = torch.max(outputs , 1)\n",
        "      loss = criterion(outputs , labels)\n",
        "      \n",
        "      loss.backward()\n",
        "      optimizer.step()\n",
        "      \n",
        "      running_loss += loss.item() *inputs.size(0)\n",
        "      running_corrects += torch.sum(preds == labels.data)\n",
        "      \n",
        "    epoch_loss = running_loss / len(train_image_dataset)\n",
        "    epoch_acc = running_corrects.double() / len(train_image_dataset)\n",
        "    \n",
        "    print('Loss : {}  Acc :{}'.format(epoch_loss , epoch_acc))\n",
        "    \n",
        "    if epoch_acc > best_acc:\n",
        "      best_acc =epoch_acc \n",
        "      best_model_wts = copy.deepcopy(model.state_dict())\n",
        "    \n",
        "  time_elapsed = time.time() - since\n",
        "  print('Training complete in {:.0f}m {:.0f}s'.format(\n",
        "        time_elapsed // 60, time_elapsed % 60))\n",
        "    \n",
        "    \n",
        "    \n",
        "  model.load_state_dict(best_model_wts)\n",
        "  return model\n",
        "  "
      ],
      "execution_count": 0,
      "outputs": []
    },
    {
      "metadata": {
        "colab_type": "code",
        "id": "o7opN-l2EgUW",
        "colab": {}
      },
      "cell_type": "code",
      "source": [
        "def set_require_grad(model , feature_extract):\n",
        "  if feature_extract:\n",
        "    for param in model.parameters():\n",
        "      param.require_grad=False"
      ],
      "execution_count": 0,
      "outputs": []
    },
    {
      "metadata": {
        "colab_type": "code",
        "id": "lOFjZqpJE35V",
        "outputId": "67afeaa4-deba-4edc-b111-a84e20c1a214",
        "colab": {
          "base_uri": "https://localhost:8080/",
          "height": 72
        }
      },
      "cell_type": "code",
      "source": [
        "#VGG16\n",
        "model_ft = models.vgg16_bn(pretrained =True)\n",
        "set_require_grad(model_ft,False)\n",
        "num_features = model_ft.classifier[6].in_features\n",
        "features = list(model_ft.classifier.children())[:-1] # Remove last layer\n",
        "features.extend([nn.Linear(num_features, len(class_names))]) # Add our layer with 4 outputs\n",
        "model_ft.classifier = nn.Sequential(*features)\n",
        "\n",
        "model_ft = model_ft.to(device)\n",
        "\n",
        "criterion = nn.CrossEntropyLoss()\n",
        "\n",
        "optimizer_ft = optim.SGD(model_ft.parameters() , lr = 0.0015 , momentum =0.9)\n",
        "\n",
        "exp_lr_scheduler = lr_scheduler.StepLR(optimizer_ft,step_size =7 ,gamma=0.1)\n"
      ],
      "execution_count": 0,
      "outputs": [
        {
          "output_type": "stream",
          "text": [
            "Downloading: \"https://download.pytorch.org/models/vgg16_bn-6c64b313.pth\" to /root/.torch/models/vgg16_bn-6c64b313.pth\n",
            "100%|██████████| 553507836/553507836 [00:27<00:00, 20237733.25it/s]\n"
          ],
          "name": "stderr"
        }
      ]
    },
    {
      "metadata": {
        "id": "JX8Aqf5nWscp",
        "colab_type": "code",
        "outputId": "2564f379-0db5-422b-8b98-8b314b8d3058",
        "colab": {
          "base_uri": "https://localhost:8080/",
          "height": 72
        }
      },
      "cell_type": "code",
      "source": [
        "#DENSENET 161\n",
        "model_dn  = models.densenet161(pretrained=True)\n",
        "set_require_grad(model_dn,False)\n",
        "features = list(model_dn.classifier.children())[:-1] # Remove last layer\n",
        "features.extend([nn.Linear(2208, len(class_names))]) # Add our layer with 4 outputs\n",
        "model_dn.classifier = nn.Sequential(*features)\n",
        "\n",
        "model_dn = model_dn.to(device)\n",
        "\n",
        "criterion = nn.CrossEntropyLoss()\n",
        "\n",
        "optimizer_dn = optim.SGD(model_dn.parameters() , lr = 0.001 , momentum =0.9)\n",
        "\n",
        "exp_lr_scheduler = lr_scheduler.StepLR(optimizer_dn,step_size = 7 ,gamma=0.1)"
      ],
      "execution_count": 0,
      "outputs": [
        {
          "output_type": "stream",
          "text": [
            "/usr/local/lib/python3.6/dist-packages/torchvision/models/densenet.py:212: UserWarning: nn.init.kaiming_normal is now deprecated in favor of nn.init.kaiming_normal_.\n",
            "  nn.init.kaiming_normal(m.weight.data)\n"
          ],
          "name": "stderr"
        }
      ]
    },
    {
      "metadata": {
        "id": "CsiGzCwmXP1L",
        "colab_type": "code",
        "colab": {}
      },
      "cell_type": "code",
      "source": [
        "#RESNET 50\n",
        "model_res = models.resnet50(pretrained=True)\n",
        "set_require_grad(model_res,False)\n",
        "features = list(model_res.children())[:-1] # Remove last layer\n",
        "features.extend([nn.Linear(2048, len(class_names))]) # Add our layer with 4 outputs\n",
        "model_res.classifier = nn.Sequential(*features)\n",
        "\n",
        "model_res = model_res.to(device)\n",
        "\n",
        "criterion = nn.CrossEntropyLoss()\n",
        "\n",
        "optimizer_res = optim.SGD(model_res.parameters() , lr = 0.001 , momentum =0.9)\n",
        "\n",
        "exp_lr_scheduler = lr_scheduler.StepLR(optimizer_dn,step_size = 7 ,gamma=0.1)"
      ],
      "execution_count": 0,
      "outputs": []
    },
    {
      "metadata": {
        "colab_type": "code",
        "id": "awGTIhmuGPYE",
        "outputId": "86508a1f-afe4-45ab-b0fb-bd4acc9e4312",
        "colab": {
          "base_uri": "https://localhost:8080/",
          "height": 1335
        }
      },
      "cell_type": "code",
      "source": [
        "#VGG16\n",
        "model_ft = train_model(model_ft , criterion , optimizer_ft , exp_lr_scheduler , num_epochs = 25)"
      ],
      "execution_count": 0,
      "outputs": [
        {
          "output_type": "stream",
          "text": [
            "Epoch 0/24\n",
            "----------\n",
            "Loss : 0.7688624449523098  Acc :0.7650602409638555\n",
            "Epoch 1/24\n",
            "----------\n",
            "Loss : 0.6878278057977377  Acc :0.7891566265060241\n",
            "Epoch 2/24\n",
            "----------\n",
            "Loss : 0.6396832855710064  Acc :0.7771084337349398\n",
            "Epoch 3/24\n",
            "----------\n",
            "Loss : 0.665283992168415  Acc :0.7740963855421688\n",
            "Epoch 4/24\n",
            "----------\n",
            "Loss : 0.6271572516984251  Acc :0.783132530120482\n",
            "Epoch 5/24\n",
            "----------\n",
            "Loss : 0.6122978941862842  Acc :0.7710843373493976\n",
            "Epoch 6/24\n",
            "----------\n",
            "Loss : 0.5887028745499002  Acc :0.7891566265060241\n",
            "Epoch 7/24\n",
            "----------\n",
            "Loss : 0.6312335347195706  Acc :0.7771084337349398\n",
            "Epoch 8/24\n",
            "----------\n",
            "Loss : 0.5676433402730758  Acc :0.7891566265060241\n",
            "Epoch 9/24\n",
            "----------\n",
            "Loss : 0.58322896081281  Acc :0.7740963855421688\n",
            "Epoch 10/24\n",
            "----------\n",
            "Loss : 0.5713039232664797  Acc :0.783132530120482\n",
            "Epoch 11/24\n",
            "----------\n",
            "Loss : 0.5514876338013683  Acc :0.7951807228915663\n",
            "Epoch 12/24\n",
            "----------\n",
            "Loss : 0.5679100017590695  Acc :0.7981927710843374\n",
            "Epoch 13/24\n",
            "----------\n",
            "Loss : 0.553659117724522  Acc :0.7951807228915663\n",
            "Epoch 14/24\n",
            "----------\n",
            "Loss : 0.5230932400887272  Acc :0.8102409638554218\n",
            "Epoch 15/24\n",
            "----------\n",
            "Loss : 0.5322819985898144  Acc :0.8042168674698795\n",
            "Epoch 16/24\n",
            "----------\n",
            "Loss : 0.48613578781306027  Acc :0.8102409638554218\n",
            "Epoch 17/24\n",
            "----------\n",
            "Loss : 0.5026350367859186  Acc :0.8102409638554218\n",
            "Epoch 18/24\n",
            "----------\n",
            "Loss : 0.5112568558339613  Acc :0.8012048192771085\n",
            "Epoch 19/24\n",
            "----------\n",
            "Loss : 0.4633959914187351  Acc :0.822289156626506\n",
            "Epoch 20/24\n",
            "----------\n",
            "Loss : 0.512812829699861  Acc :0.822289156626506\n",
            "Epoch 21/24\n",
            "----------\n",
            "Loss : 0.5095041850245142  Acc :0.7951807228915663\n",
            "Epoch 22/24\n",
            "----------\n",
            "Loss : 0.43971702923257666  Acc :0.8403614457831325\n",
            "Epoch 23/24\n",
            "----------\n",
            "Loss : 0.40237816898937684  Acc :0.8343373493975904\n",
            "Epoch 24/24\n",
            "----------\n",
            "Loss : 0.4182857562260455  Acc :0.8433734939759037\n",
            "Training complete in 12m 8s\n"
          ],
          "name": "stdout"
        }
      ]
    },
    {
      "metadata": {
        "id": "tHpHMMrcZWV5",
        "colab_type": "code",
        "outputId": "4a75b05f-d8b1-49b1-982b-3439742f033c",
        "colab": {
          "base_uri": "https://localhost:8080/",
          "height": 1335
        }
      },
      "cell_type": "code",
      "source": [
        "#DENSENET 161\n",
        "model_dn = train_model(model_dn , criterion , optimizer_dn , exp_lr_scheduler , num_epochs = 25)"
      ],
      "execution_count": 0,
      "outputs": [
        {
          "output_type": "stream",
          "text": [
            "Epoch 0/24\n",
            "----------\n",
            "Loss : 0.7501655195850924  Acc :0.7740963855421688\n",
            "Epoch 1/24\n",
            "----------\n",
            "Loss : 0.679053964026003  Acc :0.7650602409638555\n",
            "Epoch 2/24\n",
            "----------\n",
            "Loss : 0.696781188249588  Acc :0.7349397590361446\n",
            "Epoch 3/24\n",
            "----------\n",
            "Loss : 0.6732691869319204  Acc :0.746987951807229\n",
            "Epoch 4/24\n",
            "----------\n",
            "Loss : 0.7237335991069495  Acc :0.7680722891566265\n",
            "Epoch 5/24\n",
            "----------\n",
            "Loss : 0.715015953204718  Acc :0.7349397590361446\n",
            "Epoch 6/24\n",
            "----------\n",
            "Loss : 0.6471052460641746  Acc :0.7680722891566265\n",
            "Epoch 7/24\n",
            "----------\n",
            "Loss : 0.5857906539038004  Acc :0.786144578313253\n",
            "Epoch 8/24\n",
            "----------\n",
            "Loss : 0.5396403677492256  Acc :0.7801204819277109\n",
            "Epoch 9/24\n",
            "----------\n",
            "Loss : 0.545869196933436  Acc :0.8132530120481928\n",
            "Epoch 10/24\n",
            "----------\n",
            "Loss : 0.5354173339634056  Acc :0.8162650602409639\n",
            "Epoch 11/24\n",
            "----------\n",
            "Loss : 0.5099552995469196  Acc :0.8162650602409639\n",
            "Epoch 12/24\n",
            "----------\n",
            "Loss : 0.47120892750211507  Acc :0.8102409638554218\n",
            "Epoch 13/24\n",
            "----------\n",
            "Loss : 0.5069971405957119  Acc :0.8042168674698795\n",
            "Epoch 14/24\n",
            "----------\n",
            "Loss : 0.515913099589118  Acc :0.8072289156626506\n",
            "Epoch 15/24\n",
            "----------\n",
            "Loss : 0.5091324242123638  Acc :0.8042168674698795\n",
            "Epoch 16/24\n",
            "----------\n",
            "Loss : 0.5117598912083959  Acc :0.8072289156626506\n",
            "Epoch 17/24\n",
            "----------\n",
            "Loss : 0.48483565000884504  Acc :0.8102409638554218\n",
            "Epoch 18/24\n",
            "----------\n",
            "Loss : 0.49266289497714444  Acc :0.8012048192771085\n",
            "Epoch 19/24\n",
            "----------\n",
            "Loss : 0.5097687533461904  Acc :0.8072289156626506\n",
            "Epoch 20/24\n",
            "----------\n",
            "Loss : 0.48788610639342345  Acc :0.8162650602409639\n",
            "Epoch 21/24\n",
            "----------\n",
            "Loss : 0.4845502168299204  Acc :0.8012048192771085\n",
            "Epoch 22/24\n",
            "----------\n",
            "Loss : 0.5003350779234644  Acc :0.8072289156626506\n",
            "Epoch 23/24\n",
            "----------\n",
            "Loss : 0.4851118053298399  Acc :0.819277108433735\n",
            "Epoch 24/24\n",
            "----------\n",
            "Loss : 0.47602880467851477  Acc :0.8072289156626506\n",
            "Training complete in 11m 48s\n"
          ],
          "name": "stdout"
        }
      ]
    },
    {
      "metadata": {
        "id": "HRftFbpaYrjj",
        "colab_type": "code",
        "outputId": "37501dc9-acbd-4ac6-e5b0-e31d2ed23dc1",
        "colab": {
          "base_uri": "https://localhost:8080/",
          "height": 1335
        }
      },
      "cell_type": "code",
      "source": [
        "#RESNET 50\n",
        "model_res = train_model(model_res , criterion , optimizer_res , exp_lr_scheduler , num_epochs = 25)"
      ],
      "execution_count": 0,
      "outputs": [
        {
          "output_type": "stream",
          "text": [
            "Epoch 0/24\n",
            "----------\n",
            "Loss : 1.9064608180379292  Acc :0.674698795180723\n",
            "Epoch 1/24\n",
            "----------\n",
            "Loss : 0.960871636149395  Acc :0.7048192771084337\n",
            "Epoch 2/24\n",
            "----------\n",
            "Loss : 0.8031522768089571  Acc :0.7439759036144579\n",
            "Epoch 3/24\n",
            "----------\n",
            "Loss : 0.7542436381420458  Acc :0.746987951807229\n",
            "Epoch 4/24\n",
            "----------\n",
            "Loss : 0.7173289074955216  Acc :0.75\n",
            "Epoch 5/24\n",
            "----------\n",
            "Loss : 0.7211897775351283  Acc :0.7560240963855422\n",
            "Epoch 6/24\n",
            "----------\n",
            "Loss : 0.7292838182794043  Acc :0.7801204819277109\n",
            "Epoch 7/24\n",
            "----------\n",
            "Loss : 0.7577375661895935  Acc :0.7439759036144579\n",
            "Epoch 8/24\n",
            "----------\n",
            "Loss : 0.7005782974771706  Acc :0.7650602409638555\n",
            "Epoch 9/24\n",
            "----------\n",
            "Loss : 0.6947558385780058  Acc :0.7620481927710844\n",
            "Epoch 10/24\n",
            "----------\n",
            "Loss : 0.6525001612054296  Acc :0.7891566265060241\n",
            "Epoch 11/24\n",
            "----------\n",
            "Loss : 0.6603074475943324  Acc :0.7740963855421688\n",
            "Epoch 12/24\n",
            "----------\n",
            "Loss : 0.6651830931743944  Acc :0.783132530120482\n",
            "Epoch 13/24\n",
            "----------\n",
            "Loss : 0.627131456352142  Acc :0.786144578313253\n",
            "Epoch 14/24\n",
            "----------\n",
            "Loss : 0.5962985940726406  Acc :0.75\n",
            "Epoch 15/24\n",
            "----------\n",
            "Loss : 0.5704885046166109  Acc :0.7801204819277109\n",
            "Epoch 16/24\n",
            "----------\n",
            "Loss : 0.6138903376567795  Acc :0.8042168674698795\n",
            "Epoch 17/24\n",
            "----------\n",
            "Loss : 0.5908755710326046  Acc :0.7801204819277109\n",
            "Epoch 18/24\n",
            "----------\n",
            "Loss : 0.5272753525929279  Acc :0.7951807228915663\n",
            "Epoch 19/24\n",
            "----------\n",
            "Loss : 0.6010274197681841  Acc :0.783132530120482\n",
            "Epoch 20/24\n",
            "----------\n",
            "Loss : 0.5928175219570297  Acc :0.786144578313253\n",
            "Epoch 21/24\n",
            "----------\n",
            "Loss : 0.6056993409811732  Acc :0.8132530120481928\n",
            "Epoch 22/24\n",
            "----------\n",
            "Loss : 0.5875349202788019  Acc :0.7981927710843374\n",
            "Epoch 23/24\n",
            "----------\n",
            "Loss : 0.5975115701376673  Acc :0.7921686746987953\n",
            "Epoch 24/24\n",
            "----------\n",
            "Loss : 0.570009619356638  Acc :0.7921686746987953\n",
            "Training complete in 4m 50s\n"
          ],
          "name": "stdout"
        }
      ]
    },
    {
      "metadata": {
        "colab_type": "code",
        "id": "xLccNGemxQGD",
        "colab": {}
      },
      "cell_type": "code",
      "source": [
        "def eval_model(model , criterion):\n",
        "  \n",
        "  model.eval()\n",
        "  \n",
        "  running_loss = 0.0 \n",
        "  running_corrects = 0\n",
        "  \n",
        "  for inputs , labels in test_dataloader :\n",
        "    inputs = inputs.to(device)\n",
        "    labels = labels.to(device)\n",
        "    \n",
        "    outputs = model(inputs)\n",
        "    _, preds = torch.max(outputs,1)\n",
        "    loss = criterion(outputs , labels)\n",
        "    \n",
        "    running_loss += loss.item() *inputs.size(0)\n",
        "    running_corrects += torch.sum(preds == labels.data)\n",
        "  \n",
        "        \n",
        "  loss = running_loss / len(test_image_dataset)\n",
        "  acc = running_corrects.double() / len(test_image_dataset)\n",
        "    \n",
        "  print('Loss : {}  Acc :{}'.format(loss , acc))\n",
        "    \n",
        " "
      ],
      "execution_count": 0,
      "outputs": []
    },
    {
      "metadata": {
        "colab_type": "code",
        "id": "WQijHYWdyn7d",
        "outputId": "07accd7d-1b87-4081-ba5f-10a4aa33c859",
        "colab": {
          "base_uri": "https://localhost:8080/",
          "height": 35
        }
      },
      "cell_type": "code",
      "source": [
        "#VGG16 Test accuracy\n",
        "eval_model(model_ft , criterion)"
      ],
      "execution_count": 0,
      "outputs": [
        {
          "output_type": "stream",
          "text": [
            "Loss : 1.079731626170022  Acc :0.6428571428571428\n"
          ],
          "name": "stdout"
        }
      ]
    },
    {
      "metadata": {
        "id": "iV8MUoLzZxRD",
        "colab_type": "code",
        "outputId": "52ec4ff2-2b2c-4969-947c-b5f55ee597dd",
        "colab": {
          "base_uri": "https://localhost:8080/",
          "height": 35
        }
      },
      "cell_type": "code",
      "source": [
        "#DENSENET Test accuracy\n",
        "eval_model(model_dn , criterion)"
      ],
      "execution_count": 0,
      "outputs": [
        {
          "output_type": "stream",
          "text": [
            "Loss : 1.312148426260267  Acc :0.42857142857142855\n"
          ],
          "name": "stdout"
        }
      ]
    },
    {
      "metadata": {
        "id": "t0Zfcj38Y1LC",
        "colab_type": "code",
        "outputId": "702545a5-d6fe-4af1-992d-eda29f57cc51",
        "colab": {
          "base_uri": "https://localhost:8080/",
          "height": 35
        }
      },
      "cell_type": "code",
      "source": [
        "#RESNET 50\n",
        "eval_model(model_res , criterion)\n"
      ],
      "execution_count": 0,
      "outputs": [
        {
          "output_type": "stream",
          "text": [
            "Loss : 1.4166157586233956  Acc :0.5\n"
          ],
          "name": "stdout"
        }
      ]
    },
    {
      "metadata": {
        "id": "sQQN9rxgqib1",
        "colab_type": "code",
        "colab": {}
      },
      "cell_type": "code",
      "source": [
        "torch.save(model_res, 'model_resnet.h5')"
      ],
      "execution_count": 0,
      "outputs": []
    },
    {
      "metadata": {
        "id": "J6QjFg7b6XYB",
        "colab_type": "code",
        "colab": {}
      },
      "cell_type": "code",
      "source": [
        "torch.save(model_dn, 'model_densenet.h5')"
      ],
      "execution_count": 0,
      "outputs": []
    },
    {
      "metadata": {
        "id": "u7Od2g0M8zh0",
        "colab_type": "code",
        "colab": {}
      },
      "cell_type": "code",
      "source": [
        "\n",
        "model = torch.load('model_resnet.h5')"
      ],
      "execution_count": 0,
      "outputs": []
    },
    {
      "metadata": {
        "id": "roQ0bKMo7IHG",
        "colab_type": "code",
        "colab": {}
      },
      "cell_type": "code",
      "source": [
        "\n",
        "model = torch.load('model_densenet.h5')"
      ],
      "execution_count": 0,
      "outputs": []
    },
    {
      "metadata": {
        "id": "F-V5jyWzFKGS",
        "colab_type": "code",
        "outputId": "f350c7f1-f0f7-4a85-ebae-e59fc20c2b4e",
        "colab": {
          "base_uri": "https://localhost:8080/",
          "height": 35
        }
      },
      "cell_type": "code",
      "source": [
        "\n",
        "criterion = nn.CrossEntropyLoss()\n",
        "eval_model(model , criterion)"
      ],
      "execution_count": 0,
      "outputs": [
        {
          "output_type": "stream",
          "text": [
            "Loss : 1.441195969070707  Acc :0.5\n"
          ],
          "name": "stdout"
        }
      ]
    },
    {
      "metadata": {
        "id": "N2Pn-Sz9CFW8",
        "colab_type": "code",
        "outputId": "c547fddf-cd7b-4cf9-85f3-12dffd60027b",
        "colab": {
          "base_uri": "https://localhost:8080/",
          "height": 210
        }
      },
      "cell_type": "code",
      "source": [
        "# Get a batch of training data\n",
        "inputs, classes = next(iter(test_dataloader))\n",
        "out = torchvision.utils.make_grid(inputs)\n",
        "l = [class_names[x] for x in classes]\n",
        "print(\"Actual labels are:\" , l) #actual\n",
        "\n",
        "inputs = inputs.to(device)\n",
        "classes = classes.to(device)\n",
        "outputs = model(inputs)\n",
        "_, preds = torch.max(outputs,1)\n",
        "p = [class_names[x] for x in preds]\n",
        "\n",
        "print(\"Predictions are:\", p) #prediction\n",
        "loss = criterion(outputs , classes)\n",
        "imshow(out, title=l)"
      ],
      "execution_count": 0,
      "outputs": [
        {
          "output_type": "stream",
          "text": [
            "Actual labels are: ['opacity', 'normal', 'normal', 'cardiomegaly']\n",
            "Predictions are: ['normal', 'normal', 'normal', 'cardiomegaly']\n"
          ],
          "name": "stdout"
        },
        {
          "output_type": "display_data",
          "data": {
            "image/png": "[encoded data removed]",
            "text/plain": [
              "<Figure size 576x396 with 1 Axes>"
            ]
          },
          "metadata": {
            "tags": []
          }
        }
      ]
    }
  ]
}