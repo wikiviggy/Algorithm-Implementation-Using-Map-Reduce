{
  "nbformat": 4,
  "nbformat_minor": 0,
  "metadata": {
    "colab": {
      "name": " chest_XRAY.ipynb",
      "version": "0.3.2",
      "provenance": [],
      "include_colab_link": true
    },
    "kernelspec": {
      "display_name": "Python 3",
      "language": "python",
      "name": "python3"
    },
    "accelerator": "GPU"
  },
  "cells": [
    {
      "cell_type": "markdown",
      "metadata": {
        "id": "view-in-github",
        "colab_type": "text"
      },
      "source": [
        "<a href=\"https://colab.research.google.com/github/wikiviggy/Algorithm-Implementation-Using-Map-Reduce/blob/master/chest_XRAY.ipynb\" target=\"_parent\"><img src=\"https://colab.research.google.com/assets/colab-badge.svg\" alt=\"Open In Colab\"/></a>"
      ]
    },
    {
      "metadata": {
        "colab_type": "code",
        "id": "OYL8Z8Og_yOQ",
        "outputId": "d85a7179-1882-46d3-9592-543315c8e129",
        "colab": {
          "base_uri": "https://localhost:8080/",
          "height": 121
        }
      },
      "cell_type": "code",
      "source": [
        "! git clone https://github.com/wikiviggy/Visiondataset.git"
      ],
      "execution_count": 1,
      "outputs": [
        {
          "output_type": "stream",
          "text": [
            "Cloning into 'Visiondataset'...\n",
            "remote: Enumerating objects: 368, done.\u001b[K\n",
            "remote: Counting objects: 100% (368/368), done.\u001b[K\n",
            "remote: Compressing objects: 100% (368/368), done.\u001b[K\n",
            "remote: Total 368 (delta 0), reused 368 (delta 0), pack-reused 0\u001b[K\n",
            "Receiving objects: 100% (368/368), 61.87 MiB | 10.68 MiB/s, done.\n"
          ],
          "name": "stdout"
        }
      ]
    },
    {
      "metadata": {
        "colab_type": "code",
        "id": "X1U7z39p_9k1",
        "outputId": "210b71ef-2c51-4a02-8200-f91ab77642a7",
        "colab": {
          "base_uri": "https://localhost:8080/",
          "height": 69
        }
      },
      "cell_type": "code",
      "source": [
        "# http://pytorch.org/\n",
        "from os.path import exists\n",
        "from wheel.pep425tags import get_abbr_impl, get_impl_ver, get_abi_tag\n",
        "platform = '{}{}-{}'.format(get_abbr_impl(), get_impl_ver(), get_abi_tag())\n",
        "cuda_output = !ldconfig -p|grep cudart.so|sed -e 's/.*\\.\\([0-9]*\\)\\.\\([0-9]*\\)$/cu\\1\\2/'\n",
        "accelerator = cuda_output[0] if exists('/dev/nvidia0') else 'cpu'\n",
        "\n",
        "!pip install -q http://download.pytorch.org/whl/{accelerator}/torch-0.4.1-{platform}-linux_x86_64.whl torchvision\n",
        "import torch"
      ],
      "execution_count": 2,
      "outputs": [
        {
          "output_type": "stream",
          "text": [
            "\u001b[K    100% |████████████████████████████████| 512.6MB 38.2MB/s \n",
            "\u001b[K    100% |████████████████████████████████| 2.0MB 14.4MB/s \n",
            "\u001b[31mfastai 1.0.42 has requirement torch>=1.0.0, but you'll have torch 0.4.1 which is incompatible.\u001b[0m\n",
            "\u001b[?25h"
          ],
          "name": "stdout"
        }
      ]
    },
    {
      "metadata": {
        "colab_type": "code",
        "id": "_GMRseDHAC-0",
        "colab": {}
      },
      "cell_type": "code",
      "source": [
        "import torchvision \n",
        "import torch.nn as nn\n",
        "import torch.optim as optim \n",
        "from torchvision import datasets , models , transforms \n",
        "from torch.optim import lr_scheduler \n",
        "import numpy as np \n",
        "import matplotlib.pyplot as plt \n",
        "import time \n",
        "import os \n",
        "import copy \n"
      ],
      "execution_count": 0,
      "outputs": []
    },
    {
      "metadata": {
        "colab_type": "code",
        "id": "9bf1fLoaAIsf",
        "colab": {}
      },
      "cell_type": "code",
      "source": [
        "# As VGG16 requires the data in certain form so ,we are transforming the data as per required(normalization)\n",
        "train_datatransform = transforms.Compose([transforms.RandomResizedCrop(224),\n",
        "                                         transforms.RandomHorizontalFlip(),\n",
        "                                         transforms.ToTensor(),\n",
        "                                         transforms.Normalize([0.485 , 0.456 ,0.406] ,[0.229 , 0.224 , 0.225])])\n",
        "test_datatrannsform = transforms.Compose([transforms.RandomResizedCrop(224), \n",
        "                                         transforms.RandomHorizontalFlip(),\n",
        "                                         transforms.ToTensor(), \n",
        "                                         transforms.Normalize([0.485 ,0.456 ,0.406] ,[0.229 , 0.224 ,0.225])])"
      ],
      "execution_count": 0,
      "outputs": []
    },
    {
      "metadata": {
        "colab_type": "code",
        "id": "KHI1M4G6ANEQ",
        "colab": {}
      },
      "cell_type": "code",
      "source": [
        "#Yeah , we need to export the data that we have created \n",
        "train_image_dataset = datasets.ImageFolder(root='./Visiondataset/train',transform=train_datatransform )\n",
        "test_image_dataset = datasets.ImageFolder(root ='./Visiondataset/test', transform=test_datatrannsform)"
      ],
      "execution_count": 0,
      "outputs": []
    },
    {
      "metadata": {
        "colab_type": "code",
        "id": "xTOs6REJAQFG",
        "colab": {}
      },
      "cell_type": "code",
      "source": [
        "#DataLoader - Load the train and test data in the form of batches\n",
        "\n",
        "train_dataloader = torch.utils.data.DataLoader(train_image_dataset , batch_size =4 ,shuffle=True , num_workers=4 )\n",
        "test_dataloader = torch.utils.data.DataLoader(test_image_dataset , batch_size = 4 , shuffle= True , num_workers=4)"
      ],
      "execution_count": 0,
      "outputs": []
    },
    {
      "metadata": {
        "colab_type": "code",
        "id": "4Ha8vQQdAXrE",
        "outputId": "507f3c88-0e66-416d-d27c-c76f66d5c411",
        "colab": {
          "base_uri": "https://localhost:8080/",
          "height": 52
        }
      },
      "cell_type": "code",
      "source": [
        "class_names = train_image_dataset.classes\n",
        "print(class_names)\n",
        "device = torch.device(\"cuda:0\" if torch.cuda.is_available() else \"cpu\")\n",
        "print(device)"
      ],
      "execution_count": 7,
      "outputs": [
        {
          "output_type": "stream",
          "text": [
            "['cardiomegaly', 'normal', 'opacity']\n",
            "cuda:0\n"
          ],
          "name": "stdout"
        }
      ]
    },
    {
      "metadata": {
        "colab_type": "code",
        "id": "RpQd86qHAqxU",
        "outputId": "7f1efc2d-6662-4dc4-a3ab-d002715369fe",
        "colab": {
          "base_uri": "https://localhost:8080/",
          "height": 450
        }
      },
      "cell_type": "code",
      "source": [
        "!pip install Pillow==4.0.0\n",
        "!pip install PIL\n",
        "!pip install image\n",
        "import PIL"
      ],
      "execution_count": 8,
      "outputs": [
        {
          "output_type": "stream",
          "text": [
            "Collecting Pillow==4.0.0\n",
            "\u001b[?25l  Downloading https://files.pythonhosted.org/packages/37/e8/b3fbf87b0188d22246678f8cd61e23e31caa1769ebc06f1664e2e5fe8a17/Pillow-4.0.0-cp36-cp36m-manylinux1_x86_64.whl (5.6MB)\n",
            "\u001b[K    100% |████████████████████████████████| 5.6MB 7.6MB/s \n",
            "\u001b[?25hRequirement already satisfied: olefile in /usr/local/lib/python3.6/dist-packages (from Pillow==4.0.0) (0.46)\n",
            "\u001b[31mtorchvision 0.2.1 has requirement pillow>=4.1.1, but you'll have pillow 4.0.0 which is incompatible.\u001b[0m\n",
            "\u001b[31mfastai 1.0.42 has requirement torch>=1.0.0, but you'll have torch 0.4.1 which is incompatible.\u001b[0m\n",
            "Installing collected packages: Pillow\n",
            "  Found existing installation: Pillow 5.4.1\n",
            "    Uninstalling Pillow-5.4.1:\n",
            "      Successfully uninstalled Pillow-5.4.1\n",
            "Successfully installed Pillow-4.0.0\n"
          ],
          "name": "stdout"
        },
        {
          "output_type": "display_data",
          "data": {
            "application/vnd.colab-display-data+json": {
              "pip_warning": {
                "packages": [
                  "PIL"
                ]
              }
            }
          },
          "metadata": {
            "tags": []
          }
        },
        {
          "output_type": "stream",
          "text": [
            "Collecting PIL\n",
            "\u001b[31m  Could not find a version that satisfies the requirement PIL (from versions: )\u001b[0m\n",
            "\u001b[31mNo matching distribution found for PIL\u001b[0m\n",
            "Requirement already satisfied: image in /usr/local/lib/python3.6/dist-packages (1.5.27)\n",
            "Requirement already satisfied: pillow in /usr/local/lib/python3.6/dist-packages (from image) (4.0.0)\n",
            "Requirement already satisfied: django in /usr/local/lib/python3.6/dist-packages (from image) (2.1.5)\n",
            "Requirement already satisfied: olefile in /usr/local/lib/python3.6/dist-packages (from pillow->image) (0.46)\n",
            "Requirement already satisfied: pytz in /usr/local/lib/python3.6/dist-packages (from django->image) (2018.9)\n"
          ],
          "name": "stdout"
        }
      ]
    },
    {
      "metadata": {
        "colab_type": "code",
        "id": "dbwKzgrKBHtM",
        "outputId": "55db7da2-711b-4851-c3ee-80e94d618295",
        "colab": {
          "base_uri": "https://localhost:8080/",
          "height": 175
        }
      },
      "cell_type": "code",
      "source": [
        "def imshow(inp, title=None):\n",
        "    \"\"\"Imshow for Tensor.\"\"\"\n",
        "    inp = inp.numpy().transpose((1, 2, 0))\n",
        "    mean = np.array([0.485, 0.456, 0.406])\n",
        "    std = np.array([0.229, 0.224, 0.225])\n",
        "    inp = std * inp + mean\n",
        "    inp = np.clip(inp, 0, 1)\n",
        "    plt.imshow(inp)\n",
        "    if title is not None:\n",
        "        plt.title(title)\n",
        "    plt.pause(0.001)  # pause a bit so that plots are updated\n",
        "\n",
        "\n",
        "# Get a batch of training data\n",
        "inputs, classes = next(iter(train_dataloader))\n",
        "\n",
        "# Make a grid from batch\n",
        "out = torchvision.utils.make_grid(inputs)\n",
        "\n",
        "imshow(out, title=[class_names[x] for x in classes])\n"
      ],
      "execution_count": 10,
      "outputs": [
        {
          "output_type": "display_data",
          "data": {
            "image/png": "[encoded data removed]",
            "text/plain": [
              "<Figure size 576x396 with 1 Axes>"
            ]
          },
          "metadata": {
            "tags": []
          }
        }
      ]
    },
    {
      "metadata": {
        "colab_type": "code",
        "id": "5--HwZ-5Bh9V",
        "colab": {}
      },
      "cell_type": "code",
      "source": [
        "def train_model(model , criterion , optimizer , scheduler ,num_epochs):\n",
        "  since =time.time()\n",
        "  best_acc =0.0\n",
        "  best_model_wts = copy.deepcopy(model.state_dict())\n",
        "  \n",
        "  for epoch in range(num_epochs):\n",
        "    print('Epoch {}/{}'.format(epoch , num_epochs -1))\n",
        "    print('-'*10)\n",
        "    \n",
        "    scheduler.step()\n",
        "    model.train()\n",
        "    \n",
        "    running_loss = 0.0 \n",
        "    running_corrects = 0\n",
        "    \n",
        "    for inputs , labels in train_dataloader:\n",
        "      inputs = inputs.to(device)\n",
        "      labels = labels.to(device)\n",
        "      \n",
        "      optimizer.zero_grad()\n",
        "      \n",
        "      outputs = model(inputs)\n",
        "      _, preds = torch.max(outputs , 1)\n",
        "      loss = criterion(outputs , labels)\n",
        "      \n",
        "      loss.backward()\n",
        "      optimizer.step()\n",
        "      \n",
        "      running_loss += loss.item() *inputs.size(0)\n",
        "      running_corrects += torch.sum(preds == labels.data)\n",
        "      \n",
        "    epoch_loss = running_loss / len(train_image_dataset)\n",
        "    epoch_acc = running_corrects.double() / len(train_image_dataset)\n",
        "    \n",
        "    print('Loss : {}  Acc :{}'.format(epoch_loss , epoch_acc))\n",
        "    \n",
        "    if epoch_acc > best_acc:\n",
        "      best_acc =epoch_acc \n",
        "      best_model_wts = copy.deepcopy(model.state_dict())\n",
        "    \n",
        "  time_elapsed = time.time() - since\n",
        "  print('Training complete in {:.0f}m {:.0f}s'.format(\n",
        "        time_elapsed // 60, time_elapsed % 60))\n",
        "    \n",
        "    \n",
        "    \n",
        "  model.load_state_dict(best_model_wts)\n",
        "  return model\n",
        "  "
      ],
      "execution_count": 0,
      "outputs": []
    },
    {
      "metadata": {
        "colab_type": "code",
        "id": "o7opN-l2EgUW",
        "colab": {}
      },
      "cell_type": "code",
      "source": [
        "def set_require_grad(model , feature_extract):\n",
        "  if feature_extract:\n",
        "    for param in model.parameters():\n",
        "      param.require_grad=False"
      ],
      "execution_count": 0,
      "outputs": []
    },
    {
      "metadata": {
        "colab_type": "code",
        "id": "lOFjZqpJE35V",
        "colab": {
          "base_uri": "https://localhost:8080/",
          "height": 72
        },
        "outputId": "93029df5-7ede-4d27-fba8-4eadffe664ad"
      },
      "cell_type": "code",
      "source": [
        "#VGG16\n",
        "model_ft = models.vgg16_bn(pretrained =True)\n",
        "set_require_grad(model_ft,False)\n",
        "num_features = model_ft.classifier[6].in_features\n",
        "features = list(model_ft.classifier.children())[:-1] # Remove last layer\n",
        "features.extend([nn.Linear(num_features, len(class_names))]) # Add our layer with 4 outputs\n",
        "model_ft.classifier = nn.Sequential(*features)\n",
        "\n",
        "model_ft = model_ft.to(device)\n",
        "\n",
        "criterion = nn.CrossEntropyLoss()\n",
        "\n",
        "optimizer_ft = optim.SGD(model_ft.parameters() , lr = 0.0015 , momentum =0.9)\n",
        "\n",
        "exp_lr_scheduler = lr_scheduler.StepLR(optimizer_ft,step_size =7 ,gamma=0.1)\n"
      ],
      "execution_count": 13,
      "outputs": [
        {
          "output_type": "stream",
          "text": [
            "Downloading: \"https://download.pytorch.org/models/vgg16_bn-6c64b313.pth\" to /root/.torch/models/vgg16_bn-6c64b313.pth\n",
            "100%|██████████| 553507836/553507836 [00:06<00:00, 88596132.00it/s]\n"
          ],
          "name": "stderr"
        }
      ]
    },
    {
      "metadata": {
        "id": "JX8Aqf5nWscp",
        "colab_type": "code",
        "outputId": "ad6f4c00-ca0b-4181-b14a-bd84d6278152",
        "colab": {
          "base_uri": "https://localhost:8080/",
          "height": 107
        }
      },
      "cell_type": "code",
      "source": [
        "#DENSENET 121\n",
        "model_dn  = models.densenet121(pretrained=True)\n",
        "set_require_grad(model_dn,False)\n",
        "features = list(model_dn.classifier.children())[:-1] # Remove last layer\n",
        "features.extend([nn.Linear(1024, len(class_names))]) # Add our layer with 4 outputs\n",
        "model_dn.classifier = nn.Sequential(*features)\n",
        "\n",
        "model_dn = model_dn.to(device)\n",
        "\n",
        "criterion = nn.CrossEntropyLoss()\n",
        "\n",
        "optimizer_dn = optim.SGD(model_dn.parameters() , lr = 0.001 , momentum =0.9)\n",
        "\n",
        "exp_lr_scheduler = lr_scheduler.StepLR(optimizer_dn,step_size = 7 ,gamma=0.1)"
      ],
      "execution_count": 14,
      "outputs": [
        {
          "output_type": "stream",
          "text": [
            "/usr/local/lib/python3.6/dist-packages/torchvision/models/densenet.py:212: UserWarning: nn.init.kaiming_normal is now deprecated in favor of nn.init.kaiming_normal_.\n",
            "  nn.init.kaiming_normal(m.weight.data)\n",
            "Downloading: \"https://download.pytorch.org/models/densenet121-a639ec97.pth\" to /root/.torch/models/densenet121-a639ec97.pth\n",
            "100%|██████████| 32342954/32342954 [00:00<00:00, 43947273.88it/s]\n"
          ],
          "name": "stderr"
        }
      ]
    },
    {
      "metadata": {
        "id": "CsiGzCwmXP1L",
        "colab_type": "code",
        "colab": {
          "base_uri": "https://localhost:8080/",
          "height": 72
        },
        "outputId": "3a96d09f-98ea-4a8e-f371-0075fcb6ec20"
      },
      "cell_type": "code",
      "source": [
        "#RESNET 50\n",
        "model_res = models.resnet50(pretrained=True)\n",
        "set_require_grad(model_res,False)\n",
        "features = list(model_res.children())[:-1] # Remove last layer\n",
        "features.extend([nn.Linear(2048, len(class_names))]) # Add our layer with 4 outputs\n",
        "model_res.classifier = nn.Sequential(*features)\n",
        "\n",
        "model_res = model_res.to(device)\n",
        "\n",
        "criterion = nn.CrossEntropyLoss()\n",
        "\n",
        "optimizer_res = optim.SGD(model_res.parameters() , lr = 0.001 , momentum =0.9)\n",
        "\n",
        "exp_lr_scheduler = lr_scheduler.StepLR(optimizer_dn,step_size = 7 ,gamma=0.1)"
      ],
      "execution_count": 15,
      "outputs": [
        {
          "output_type": "stream",
          "text": [
            "Downloading: \"https://download.pytorch.org/models/resnet50-19c8e357.pth\" to /root/.torch/models/resnet50-19c8e357.pth\n",
            "100%|██████████| 102502400/102502400 [00:01<00:00, 101908197.27it/s]\n"
          ],
          "name": "stderr"
        }
      ]
    },
    {
      "metadata": {
        "colab_type": "code",
        "id": "awGTIhmuGPYE",
        "outputId": "f97272ad-15c8-488b-9226-5b663518dd94",
        "colab": {
          "base_uri": "https://localhost:8080/",
          "height": 1335
        }
      },
      "cell_type": "code",
      "source": [
        "#VGG16\n",
        "model_ft = train_model(model_ft , criterion , optimizer_ft , exp_lr_scheduler , num_epochs = 25)"
      ],
      "execution_count": 16,
      "outputs": [
        {
          "output_type": "stream",
          "text": [
            "Epoch 0/24\n",
            "----------\n",
            "Loss : 0.7274348414446934  Acc :0.746987951807229\n",
            "Epoch 1/24\n",
            "----------\n",
            "Loss : 0.6713352815573475  Acc :0.7710843373493976\n",
            "Epoch 2/24\n",
            "----------\n",
            "Loss : 0.6282219876007862  Acc :0.7710843373493976\n",
            "Epoch 3/24\n",
            "----------\n",
            "Loss : 0.6841004180261888  Acc :0.7771084337349398\n",
            "Epoch 4/24\n",
            "----------\n",
            "Loss : 0.6164480442383203  Acc :0.7891566265060241\n",
            "Epoch 5/24\n",
            "----------\n",
            "Loss : 0.6780026876423733  Acc :0.783132530120482\n",
            "Epoch 6/24\n",
            "----------\n",
            "Loss : 0.6173900207841253  Acc :0.7710843373493976\n",
            "Epoch 7/24\n",
            "----------\n",
            "Loss : 0.6050673638840756  Acc :0.7921686746987953\n",
            "Epoch 8/24\n",
            "----------\n",
            "Loss : 0.6038978458887123  Acc :0.783132530120482\n",
            "Epoch 9/24\n",
            "----------\n",
            "Loss : 0.6306650128709265  Acc :0.783132530120482\n",
            "Epoch 10/24\n",
            "----------\n",
            "Loss : 0.5916859697864716  Acc :0.7921686746987953\n",
            "Epoch 11/24\n",
            "----------\n",
            "Loss : 0.5652413614184023  Acc :0.7951807228915663\n",
            "Epoch 12/24\n",
            "----------\n",
            "Loss : 0.6477987990680948  Acc :0.7710843373493976\n",
            "Epoch 13/24\n",
            "----------\n",
            "Loss : 0.555225070521056  Acc :0.7921686746987953\n",
            "Epoch 14/24\n",
            "----------\n",
            "Loss : 0.5487570615417986  Acc :0.8102409638554218\n",
            "Epoch 15/24\n",
            "----------\n",
            "Loss : 0.5761600393487747  Acc :0.8042168674698795\n",
            "Epoch 16/24\n",
            "----------\n",
            "Loss : 0.5200562814632094  Acc :0.8012048192771085\n",
            "Epoch 17/24\n",
            "----------\n",
            "Loss : 0.5176311738519783  Acc :0.8072289156626506\n",
            "Epoch 18/24\n",
            "----------\n",
            "Loss : 0.5556112043110721  Acc :0.7771084337349398\n",
            "Epoch 19/24\n",
            "----------\n",
            "Loss : 0.5068615709083626  Acc :0.7921686746987953\n",
            "Epoch 20/24\n",
            "----------\n",
            "Loss : 0.46699296943394536  Acc :0.8162650602409639\n",
            "Epoch 21/24\n",
            "----------\n",
            "Loss : 0.49600600172956305  Acc :0.7981927710843374\n",
            "Epoch 22/24\n",
            "----------\n",
            "Loss : 0.49389462837253706  Acc :0.8162650602409639\n",
            "Epoch 23/24\n",
            "----------\n",
            "Loss : 0.5115375590611653  Acc :0.8012048192771085\n",
            "Epoch 24/24\n",
            "----------\n",
            "Loss : 0.49184577508145066  Acc :0.8132530120481928\n",
            "Training complete in 11m 26s\n"
          ],
          "name": "stdout"
        }
      ]
    },
    {
      "metadata": {
        "id": "tHpHMMrcZWV5",
        "colab_type": "code",
        "outputId": "93d4302e-3a48-4776-af75-c9a105fd2b3c",
        "colab": {
          "base_uri": "https://localhost:8080/",
          "height": 1335
        }
      },
      "cell_type": "code",
      "source": [
        "#DENSENET\n",
        "model_dn = train_model(model_dn , criterion , optimizer_dn , exp_lr_scheduler , num_epochs = 25)"
      ],
      "execution_count": 0,
      "outputs": [
        {
          "output_type": "stream",
          "text": [
            "Epoch 0/24\n",
            "----------\n",
            "Loss : 1.1034124084265835  Acc :0.3704819277108434\n",
            "Epoch 1/24\n",
            "----------\n",
            "Loss : 1.003678726862712  Acc :0.5602409638554218\n",
            "Epoch 2/24\n",
            "----------\n",
            "Loss : 0.9257802209222173  Acc :0.6987951807228916\n",
            "Epoch 3/24\n",
            "----------\n",
            "Loss : 0.8982132895883307  Acc :0.7409638554216867\n",
            "Epoch 4/24\n",
            "----------\n",
            "Loss : 0.8914093870714487  Acc :0.7409638554216867\n",
            "Epoch 5/24\n",
            "----------\n",
            "Loss : 0.8869091595511839  Acc :0.7349397590361446\n",
            "Epoch 6/24\n",
            "----------\n",
            "Loss : 0.876120322440044  Acc :0.7349397590361446\n",
            "Epoch 7/24\n",
            "----------\n",
            "Loss : 0.8758257957826178  Acc :0.7680722891566265\n",
            "Epoch 8/24\n",
            "----------\n",
            "Loss : 0.8630732771861984  Acc :0.7710843373493976\n",
            "Epoch 9/24\n",
            "----------\n",
            "Loss : 0.8641255576926542  Acc :0.7680722891566265\n",
            "Epoch 10/24\n",
            "----------\n",
            "Loss : 0.8569449796734085  Acc :0.7560240963855422\n",
            "Epoch 11/24\n",
            "----------\n",
            "Loss : 0.8659188912575504  Acc :0.7620481927710844\n",
            "Epoch 12/24\n",
            "----------\n",
            "Loss : 0.8527357800897345  Acc :0.7650602409638555\n",
            "Epoch 13/24\n",
            "----------\n",
            "Loss : 0.8585632486515734  Acc :0.75\n",
            "Epoch 14/24\n",
            "----------\n",
            "Loss : 0.8581895404551403  Acc :0.7650602409638555\n",
            "Epoch 15/24\n",
            "----------\n",
            "Loss : 0.8758740812899118  Acc :0.7710843373493976\n",
            "Epoch 16/24\n",
            "----------\n",
            "Loss : 0.8692138489470425  Acc :0.7680722891566265\n",
            "Epoch 17/24\n",
            "----------\n",
            "Loss : 0.8488783685557814  Acc :0.7620481927710844\n",
            "Epoch 18/24\n",
            "----------\n",
            "Loss : 0.8623272080019296  Acc :0.7650602409638555\n",
            "Epoch 19/24\n",
            "----------\n",
            "Loss : 0.8597754943801696  Acc :0.7650602409638555\n",
            "Epoch 20/24\n",
            "----------\n",
            "Loss : 0.859822113829923  Acc :0.7771084337349398\n",
            "Epoch 21/24\n",
            "----------\n",
            "Loss : 0.8606045957071236  Acc :0.7620481927710844\n",
            "Epoch 22/24\n",
            "----------\n",
            "Loss : 0.8428092067500195  Acc :0.7530120481927711\n",
            "Epoch 23/24\n",
            "----------\n",
            "Loss : 0.8568094631275499  Acc :0.7771084337349398\n",
            "Epoch 24/24\n",
            "----------\n",
            "Loss : 0.8623323878609991  Acc :0.7590361445783133\n",
            "Training complete in 5m 33s\n"
          ],
          "name": "stdout"
        }
      ]
    },
    {
      "metadata": {
        "id": "HRftFbpaYrjj",
        "colab_type": "code",
        "outputId": "207c8f8b-a08d-41a3-9505-b6d16b6c6d91",
        "colab": {
          "base_uri": "https://localhost:8080/",
          "height": 1335
        }
      },
      "cell_type": "code",
      "source": [
        "#RESNET 50\n",
        "model_res = train_model(model_res , criterion , optimizer_res , exp_lr_scheduler , num_epochs = 25)"
      ],
      "execution_count": 0,
      "outputs": [
        {
          "output_type": "stream",
          "text": [
            "Epoch 0/24\n",
            "----------\n",
            "Loss : 1.7525179386138916  Acc :0.6475903614457832\n",
            "Epoch 1/24\n",
            "----------\n",
            "Loss : 0.9111850879278528  Acc :0.7228915662650602\n",
            "Epoch 2/24\n",
            "----------\n",
            "Loss : 0.8970212548612112  Acc :0.7048192771084337\n",
            "Epoch 3/24\n",
            "----------\n",
            "Loss : 0.7333963621093567  Acc :0.7590361445783133\n",
            "Epoch 4/24\n",
            "----------\n",
            "Loss : 0.7472771018384451  Acc :0.75\n",
            "Epoch 5/24\n",
            "----------\n",
            "Loss : 0.7773163376084293  Acc :0.7319277108433735\n",
            "Epoch 6/24\n",
            "----------\n",
            "Loss : 0.7158110974782921  Acc :0.75\n",
            "Epoch 7/24\n",
            "----------\n",
            "Loss : 0.7039715094738695  Acc :0.7650602409638555\n",
            "Epoch 8/24\n",
            "----------\n",
            "Loss : 0.6964319039540119  Acc :0.783132530120482\n",
            "Epoch 9/24\n",
            "----------\n",
            "Loss : 0.6981231089097908  Acc :0.7801204819277109\n",
            "Epoch 10/24\n",
            "----------\n",
            "Loss : 0.6800690013242056  Acc :0.7650602409638555\n",
            "Epoch 11/24\n",
            "----------\n",
            "Loss : 0.6470413150557552  Acc :0.7801204819277109\n",
            "Epoch 12/24\n",
            "----------\n",
            "Loss : 0.556396573422903  Acc :0.7921686746987953\n",
            "Epoch 13/24\n",
            "----------\n",
            "Loss : 0.5946284374558782  Acc :0.7771084337349398\n",
            "Epoch 14/24\n",
            "----------\n",
            "Loss : 0.623260365911277  Acc :0.7801204819277109\n",
            "Epoch 15/24\n",
            "----------\n",
            "Loss : 0.5470335569726416  Acc :0.7951807228915663\n",
            "Epoch 16/24\n",
            "----------\n",
            "Loss : 0.6505840399179114  Acc :0.783132530120482\n",
            "Epoch 17/24\n",
            "----------\n",
            "Loss : 0.684441313686141  Acc :0.7590361445783133\n",
            "Epoch 18/24\n",
            "----------\n",
            "Loss : 0.5845914662602436  Acc :0.786144578313253\n",
            "Epoch 19/24\n",
            "----------\n",
            "Loss : 0.5227807228823742  Acc :0.7921686746987953\n",
            "Epoch 20/24\n",
            "----------\n",
            "Loss : 0.5868098391107766  Acc :0.7891566265060241\n",
            "Epoch 21/24\n",
            "----------\n",
            "Loss : 0.580416058919516  Acc :0.8102409638554218\n",
            "Epoch 22/24\n",
            "----------\n",
            "Loss : 0.5582974847540798  Acc :0.7771084337349398\n",
            "Epoch 23/24\n",
            "----------\n",
            "Loss : 0.5397599720093141  Acc :0.7921686746987953\n",
            "Epoch 24/24\n",
            "----------\n",
            "Loss : 0.5521771247128406  Acc :0.8132530120481928\n",
            "Training complete in 4m 54s\n"
          ],
          "name": "stdout"
        }
      ]
    },
    {
      "metadata": {
        "colab_type": "code",
        "id": "xLccNGemxQGD",
        "colab": {}
      },
      "cell_type": "code",
      "source": [
        "def eval_model(model , criterion):\n",
        "  \n",
        "  model.eval()\n",
        "  \n",
        "  running_loss = 0.0 \n",
        "  running_corrects = 0\n",
        "  \n",
        "  for inputs , labels in test_dataloader :\n",
        "    inputs = inputs.to(device)\n",
        "    labels = labels.to(device)\n",
        "    \n",
        "    outputs = model(inputs)\n",
        "    _, preds = torch.max(outputs,1)\n",
        "    loss = criterion(outputs , labels)\n",
        "    \n",
        "    running_loss += loss.item() *inputs.size(0)\n",
        "    running_corrects += torch.sum(preds == labels.data)\n",
        "  \n",
        "        \n",
        "  loss = running_loss / len(test_image_dataset)\n",
        "  acc = running_corrects.double() / len(test_image_dataset)\n",
        "    \n",
        "  print('Loss : {}  Acc :{}'.format(loss , acc))\n",
        "    \n",
        " "
      ],
      "execution_count": 0,
      "outputs": []
    },
    {
      "metadata": {
        "colab_type": "code",
        "id": "WQijHYWdyn7d",
        "outputId": "60f61372-e8bd-4933-ea6f-4374615e5e5a",
        "colab": {
          "base_uri": "https://localhost:8080/",
          "height": 35
        }
      },
      "cell_type": "code",
      "source": [
        "#VGG16 Test accuracy\n",
        "eval_model(model_ft , criterion)"
      ],
      "execution_count": 0,
      "outputs": [
        {
          "output_type": "stream",
          "text": [
            "Loss : 1.7015641927719116  Acc :0.5357142857142857\n"
          ],
          "name": "stdout"
        }
      ]
    },
    {
      "metadata": {
        "id": "iV8MUoLzZxRD",
        "colab_type": "code",
        "outputId": "81842aed-b008-4721-c601-1dcb587fdf09",
        "colab": {
          "base_uri": "https://localhost:8080/",
          "height": 35
        }
      },
      "cell_type": "code",
      "source": [
        "#DENSENET Test accuracy\n",
        "eval_model(model_dn , criterion)"
      ],
      "execution_count": 0,
      "outputs": [
        {
          "output_type": "stream",
          "text": [
            "Loss : 1.0276443021638053  Acc :0.5357142857142857\n"
          ],
          "name": "stdout"
        }
      ]
    },
    {
      "metadata": {
        "id": "t0Zfcj38Y1LC",
        "colab_type": "code",
        "outputId": "f7977d7c-38d2-4d97-e5a8-5e475194b197",
        "colab": {
          "base_uri": "https://localhost:8080/",
          "height": 166
        }
      },
      "cell_type": "code",
      "source": [
        "#RESNET 50\n",
        "eval_model(model_res , criterion)"
      ],
      "execution_count": 0,
      "outputs": [
        {
          "output_type": "error",
          "ename": "NameError",
          "evalue": "ignored",
          "traceback": [
            "\u001b[0;31m---------------------------------------------------------------------------\u001b[0m",
            "\u001b[0;31mNameError\u001b[0m                                 Traceback (most recent call last)",
            "\u001b[0;32m<ipython-input-3-a706deb19310>\u001b[0m in \u001b[0;36m<module>\u001b[0;34m()\u001b[0m\n\u001b[0;32m----> 1\u001b[0;31m \u001b[0meval_model\u001b[0m\u001b[0;34m(\u001b[0m\u001b[0mmodel_res\u001b[0m \u001b[0;34m,\u001b[0m \u001b[0mcriterion\u001b[0m\u001b[0;34m)\u001b[0m\u001b[0;34m\u001b[0m\u001b[0;34m\u001b[0m\u001b[0m\n\u001b[0m",
            "\u001b[0;31mNameError\u001b[0m: name 'eval_model' is not defined"
          ]
        }
      ]
    },
    {
      "metadata": {
        "id": "sQQN9rxgqib1",
        "colab_type": "code",
        "outputId": "9a3e17d4-e522-460e-faa2-426afc6f0f34",
        "colab": {
          "base_uri": "https://localhost:8080/",
          "height": 166
        }
      },
      "cell_type": "code",
      "source": [
        "torch.save(model_res, 'model_resnet.h5')"
      ],
      "execution_count": 0,
      "outputs": [
        {
          "output_type": "error",
          "ename": "NameError",
          "evalue": "ignored",
          "traceback": [
            "\u001b[0;31m---------------------------------------------------------------------------\u001b[0m",
            "\u001b[0;31mNameError\u001b[0m                                 Traceback (most recent call last)",
            "\u001b[0;32m<ipython-input-12-4a779972db7e>\u001b[0m in \u001b[0;36m<module>\u001b[0;34m()\u001b[0m\n\u001b[0;32m----> 1\u001b[0;31m \u001b[0mtorch\u001b[0m\u001b[0;34m.\u001b[0m\u001b[0msave\u001b[0m\u001b[0;34m(\u001b[0m\u001b[0mmodel_res\u001b[0m\u001b[0;34m,\u001b[0m \u001b[0;34m'model_resnet.h5'\u001b[0m\u001b[0;34m)\u001b[0m\u001b[0;34m\u001b[0m\u001b[0;34m\u001b[0m\u001b[0m\n\u001b[0m",
            "\u001b[0;31mNameError\u001b[0m: name 'torch' is not defined"
          ]
        }
      ]
    },
    {
      "metadata": {
        "id": "u7Od2g0M8zh0",
        "colab_type": "code",
        "colab": {}
      },
      "cell_type": "code",
      "source": [
        "model = torch.load('model_resnet.h5')"
      ],
      "execution_count": 0,
      "outputs": []
    },
    {
      "metadata": {
        "id": "tFbe21WyBXNf",
        "colab_type": "code",
        "colab": {}
      },
      "cell_type": "code",
      "source": [
        "import requests\n",
        "from PIL import Image"
      ],
      "execution_count": 0,
      "outputs": []
    },
    {
      "metadata": {
        "id": "NvTOOhDxByeh",
        "colab_type": "code",
        "outputId": "97b60104-f5a5-4d73-99e6-99bbb7ed3c84",
        "colab": {
          "base_uri": "https://localhost:8080/",
          "height": 72
        }
      },
      "cell_type": "code",
      "source": [
        "normalize = transforms.Normalize(\n",
        "   mean=[0.485, 0.456, 0.406],\n",
        "   std=[0.229, 0.224, 0.225]\n",
        ")\n",
        "preprocess = transforms.Compose([\n",
        "   transforms.Scale(256),\n",
        "   transforms.CenterCrop(224),\n",
        "   transforms.ToTensor(),\n",
        "   normalize\n",
        "])"
      ],
      "execution_count": 0,
      "outputs": [
        {
          "output_type": "stream",
          "text": [
            "/usr/local/lib/python3.6/dist-packages/torchvision/transforms/transforms.py:188: UserWarning: The use of the transforms.Scale transform is deprecated, please use transforms.Resize instead.\n",
            "  \"please use transforms.Resize instead.\")\n"
          ],
          "name": "stderr"
        }
      ]
    },
    {
      "metadata": {
        "id": "N2Pn-Sz9CFW8",
        "colab_type": "code",
        "colab": {}
      },
      "cell_type": "code",
      "source": [
        ""
      ],
      "execution_count": 0,
      "outputs": []
    }
  ]
}